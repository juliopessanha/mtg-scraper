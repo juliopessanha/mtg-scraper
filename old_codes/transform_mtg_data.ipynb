{
 "cells": [
  {
   "cell_type": "code",
   "execution_count": 9,
   "metadata": {},
   "outputs": [],
   "source": [
    "import json\n",
    "import pandas as pd"
   ]
  },
  {
   "cell_type": "code",
   "execution_count": 12,
   "metadata": {},
   "outputs": [],
   "source": [
    "# Opening JSON file\n",
    "f = open('cards.json',)\n",
    " \n",
    "# returns JSON object as\n",
    "# a dictionary\n",
    "cards = json.load(f)\n",
    "\n",
    "f.close()"
   ]
  },
  {
   "cell_type": "code",
   "execution_count": 6,
   "metadata": {},
   "outputs": [],
   "source": [
    "#gets the card json and returns a formated card list\n",
    "def get_card_data(card_json):\n",
    "    card_data = []\n",
    "    #print(card_json)\n",
    "    card_name = card_json['name']#.replace(\"(\" + collection_name + \")\", \"\").strip()\n",
    "    card_data.append(card_name) #card name\n",
    "    #print(card_json['description'].split('•'))\n",
    "    mana_cost = card_json['description'].split('•')[0].strip() #mana cost\n",
    "    if ('land' in mana_cost.lower()) or ('token' in mana_cost.lower()):\n",
    "        card_type = mana_cost\n",
    "        mana_cost = '-'\n",
    "    \n",
    "    else:        \n",
    "        card_type = card_json['description'].split('•')[1].strip() #card type, hypertype\n",
    "        \n",
    "    card_data.append(mana_cost) #append the mana cost\n",
    "    card_data.append(card_type) #append the card type\n",
    "    #print(\"Mana cost: \" + mana_cost)\n",
    "    #print(\"Card type: \" + card_type)\n",
    "    #print(card_type)\n",
    "\n",
    "    if \"token\" in card_type.lower(): #the card only has power and resistence if it's a creature\n",
    "        \n",
    "        if \"creature\" in card_type.lower():\n",
    "            power_resistence = card_json['description'].split('•')[1].strip() #power/resistence\n",
    "            card_text = card_json['description'].split('•')[2].strip() #card information, effects, etc\n",
    "            #removes useless text and returns only the artist name\n",
    "            artist = card_json['description'].split('•')[4].replace(\"Illustrated by \", \"\").strip()\n",
    "        \n",
    "        else:\n",
    "            power_resistence = \"-\" #only creature cards has power/resistence, so here returns -\n",
    "            card_text = card_json['description'].split('•')[2].strip()  #card information, effects, etc\n",
    "            #removes useless text and returns only the artist name\n",
    "            artist = card_json['description'].split('•')[4].replace(\"Illustrated by \", \"\").strip()          \n",
    "    \n",
    "    elif \"creature\" in card_type.lower(): #the card only has power and resistence if it's a creature\n",
    "        power_resistence = card_json['description'].split('•')[2].strip() #power/resistence\n",
    "        card_text = card_json['description'].split('•')[3].strip() #card information, effects, etc\n",
    "        #removes useless text and returns only the artist name\n",
    "        artist = card_json['description'].split('•')[5].replace(\"Illustrated by \", \"\").strip()\n",
    "        \n",
    "    elif (\"land\" in card_type.lower()): #the card only has power and resistence if it's a creature\n",
    "        power_resistence = \"-\"\n",
    "        card_text = card_json['description'].split('•')[1].strip() #card information, effects, etc\n",
    "        #removes useless text and returns only the artist name\n",
    "        artist = card_json['description'].split('•')[3].replace(\"Illustrated by \", \"\").strip()\n",
    "        \n",
    "    elif \"planeswalker\" in card_type.lower():\n",
    "        #print(\"OPA OPA OPA PLANINALTO\")\n",
    "        power_resistence = card_json['description'].split('•')[2].replace(\"Loyalty: \", \"\").strip() #power/resistence\n",
    "        card_text = card_json['description'].split('•')[3].strip() #card information, effects, etc\n",
    "        #removes useless text and returns only the artist name\n",
    "        artist = card_json['description'].split('•')[5].replace(\"Illustrated by \", \"\").strip()     \n",
    "        \n",
    "    else: #otherwise, the card will only have description text\n",
    "        power_resistence = \"-\" #only creature cards has power/resistence, so here returns -\n",
    "        card_text = card_json['description'].split('•')[2].strip()  #card information, effects, etc\n",
    "        #removes useless text and returns only the artist name\n",
    "        artist = card_json['description'].split('•')[4].replace(\"Illustrated by \", \"\").strip()\n",
    "        \n",
    "    card_data.append(power_resistence) #append power/resistence\n",
    "    card_data.append(card_text) #the card text  \n",
    "    #print(card_text)\n",
    "    card_data.append(artist) #artist's name\n",
    "    #card_data.append(collection_name) #set name\n",
    "    \n",
    "    try: #get the card price\n",
    "        lowPrice = card_json['offers'][0]['lowPrice']\n",
    "        highPrice = card_json['offers'][0]['highPrice']\n",
    "    \n",
    "    except: #if the card has no price\n",
    "        lowPrice = '-'\n",
    "        highPrice = '-'\n",
    "\n",
    "    card_data.append(lowPrice)\n",
    "    card_data.append(highPrice)\n",
    "    card_data.append(card_json['image'][0]) #image\n",
    "    \n",
    "\n",
    "    if '//' in card_name:\n",
    "        card_data.append(card_json['image'][0].replace(\"front\", \"back\")) #image back\n",
    "        \n",
    "    else:\n",
    "        card_data.append(\"-\")\n",
    "    #print(power_resistence)\n",
    "    #print(card_data)\n",
    "    #if \"artifact\" in card_type.lower():\n",
    "    #print(card_data)\n",
    "    #print(\"-\")\n",
    "    return(card_data)"
   ]
  },
  {
   "cell_type": "code",
   "execution_count": 13,
   "metadata": {},
   "outputs": [
    {
     "name": "stdout",
     "output_type": "stream",
     "text": [
      "cabô\n",
      "1111\n"
     ]
    }
   ],
   "source": [
    "allCards = []\n",
    "brokenCards = []\n",
    "i = 0\n",
    "for card in cards:\n",
    "    try:\n",
    "        allCards.append(get_card_data(card))\n",
    "    except:\n",
    "        brokenCards.append(card)\n",
    "        i +=1 \n",
    "        \n",
    "        \n",
    "dfColumns = [\"name\", \"mana_cost\", \"card_type\", \"power\", \"card_text\", \"artist\", \"lowPrice\", 'highPrice', 'front_image', 'back_image']\n",
    "df = pd.DataFrame(data=allCards, columns=dfColumns)\n",
    "df.to_excel('./mtg_data.xlsx', index = False, header=True)\n",
    "del df\n",
    "        \n",
    "print(\"cabô\")\n",
    "print(i)"
   ]
  },
  {
   "cell_type": "code",
   "execution_count": 40,
   "metadata": {},
   "outputs": [],
   "source": []
  },
  {
   "cell_type": "code",
   "execution_count": null,
   "metadata": {},
   "outputs": [],
   "source": []
  },
  {
   "cell_type": "code",
   "execution_count": 2,
   "metadata": {},
   "outputs": [],
   "source": []
  },
  {
   "cell_type": "code",
   "execution_count": null,
   "metadata": {},
   "outputs": [],
   "source": []
  },
  {
   "cell_type": "code",
   "execution_count": null,
   "metadata": {},
   "outputs": [],
   "source": []
  }
 ],
 "metadata": {
  "kernelspec": {
   "display_name": "Python 3",
   "language": "python",
   "name": "python3"
  },
  "language_info": {
   "codemirror_mode": {
    "name": "ipython",
    "version": 3
   },
   "file_extension": ".py",
   "mimetype": "text/x-python",
   "name": "python",
   "nbconvert_exporter": "python",
   "pygments_lexer": "ipython3",
   "version": "3.8.10"
  }
 },
 "nbformat": 4,
 "nbformat_minor": 4
}
